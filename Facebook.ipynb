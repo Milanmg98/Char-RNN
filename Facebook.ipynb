{
  "nbformat": 4,
  "nbformat_minor": 0,
  "metadata": {
    "colab": {
      "name": "Facebook",
      "provenance": [],
      "collapsed_sections": []
    },
    "kernelspec": {
      "name": "python3",
      "display_name": "Python 3"
    },
    "accelerator": "GPU"
  },
  "cells": [
    {
      "cell_type": "code",
      "metadata": {
        "id": "dD4JK96Qkb41"
      },
      "source": [
        "from pathlib import Path\n",
        "import re\n",
        "import numpy as np\n",
        "import pandas as pd\n",
        "import os\n",
        "import pickle\n",
        "from tqdm import tqdm\n",
        "import tensorflow as tf\n",
        "from tensorflow import keras\n",
        "from tensorflow.keras import Sequential\n",
        "from tensorflow.keras import layers"
      ],
      "execution_count": null,
      "outputs": []
    },
    {
      "cell_type": "markdown",
      "metadata": {
        "id": "hCiwpLJX5lKD"
      },
      "source": [
        "### `Reading the messages`"
      ]
    },
    {
      "cell_type": "markdown",
      "metadata": {
        "id": "ESHLhaTSRmiF"
      },
      "source": [
        "##Getting the dataset\n",
        "\n",
        "Actually getting the dataset of all my conversations was surprisingly straightforward. All I had to do was visit the “Download your information” tab here, and ensure the checkbox next to “Messages” was the only one clicked. I also selected the “JSON” option for format. After submitting a request for my data, I waited for about an hour before I received an email saying my files were ready. I downloaded my messages as a .zip file (which was about 1.5gb while compressed!) and extracted the file into a directory with python scripts for parsing and generating text."
      ]
    },
    {
      "cell_type": "code",
      "metadata": {
        "id": "FacS7M-jz4l5",
        "colab": {
          "base_uri": "https://localhost:8080/",
          "height": 224
        },
        "outputId": "012e09e6-e24d-4b41-d4fc-5bea01dec74b"
      },
      "source": [
        "! wget --header=\"Host: bigzipfiles.facebook.com\" --header=\"User-Agent: Mozilla/5.0 (X11; Linux x86_64) AppleWebKit/537.36 (KHTML, like Gecko) Chrome/81.0.4044.92 Safari/537.36\" --header=\"Accept: text/html,application/xhtml+xml,application/xml;q=0.9,image/webp,image/apng,*/*;q=0.8,application/signed-exchange;v=b3;q=0.9\" --header=\"Accept-Language: en-US,en;q=0.9\" --header=\"Referer: https://www.facebook.com/\" --header=\"Cookie: sb=rmORXkHzq4zGwZCRMwFUOuNW; datr=tkyVXiAsc_meJnv9HZvZLrQJ; c_user=100003852074416; xs=25%3AGeZKtYaMMPEVFQ%3A2%3A1589466034%3A6479%3A3656; spin=r.1002244099_b.trunk_t.1592062863_s.1_v.2_; _fbp=fb.1.1592118527858.1441407236; fr=088w4bb3d0cmEw1pX.AWWIdq9JgnDAmTvb5z9ArTFHuHE.Be4iJJ.jo.F7j.0.0.Be5gOL.AWWLFz0A; wd=1299x637; presence=EDvF3EtimeF1592135257EuserFA21B03852074416A2EstateFDutF1592135257014CEchF_7bCC; act=1592135257988%2F1\" --header=\"Connection: keep-alive\" \"https://bigzipfiles.facebook.com/p/dl/download/file.php?r=100003852074416&t=100003852074416&j=11&i=1699478706857182&f=1699495213522198&ext=1592137668&hash=AaDAKwV7DvVSTsP1\" -c -O 'facebook-milangautam904.zip'"
      ],
      "execution_count": null,
      "outputs": [
        {
          "output_type": "stream",
          
          "name": "stdout"
        }
      ]
    },
    {
      "cell_type": "code",
      "metadata": {
        "id": "LdYc3YEkliIM"
      },
      "source": [
        "dir_path='facebook/messages/inbox'\n",
        "Root=Path(dir_path)\n",
        "path_to_all=list(Root.glob('*/message_1.json'))"
      ],
      "execution_count": null,
      "outputs": []
    },
    {
      "cell_type": "code",
      "metadata": {
        "id": "9fp4ZSN0KQIo"
      },
      "source": [
        "#Getting all the text content from all the message\n",
        "path_to_all=[str(path) for path in path_to_all]\n",
        "contents=' '.join(str(tf.io.read_file(path).numpy()) for path in path_to_all)"
      ],
      "execution_count": null,
      "outputs": []
    },
    {
      "cell_type": "markdown",
      "metadata": {
        "id": "bvZf57QbZAbo"
      },
      "source": [
        "## Preprocessing"
      ]
    },
    {
      "cell_type": "code",
      "metadata": {
        "id": "x8oJjI96Y_0X"
      },
      "source": [
        "clean_contents=re.findall('\"content\": \"[\\w\\?\\.><;:\\+()\\*&\\^%\\$#@! ]*\"',contents)\n",
        "clean_contents=''.join(con for con in clean_contents)\n",
        "#Removing all the \"content:\"\n",
        "clean_contents=re.sub('\"content\":',' ',clean_contents)\n",
        "#Removing all the \"\"\n",
        "clean_contents=re.sub('\"','',clean_contents)\n",
        "#Removing all the \"you missed the call\"\n",
        "clean_contents=re.sub('You missed a call','',clean_contents)\n",
        "#Remove 'from name'\n",
        "clean_contents=re.sub('from [\\w]*','',clean_contents)\n",
        "#Remove 'joined the video chat'\n",
        "clean_contents=re.sub('[\\w]* joined the video chat*','',clean_contents)\n",
        "#Remove 'left the group'\n",
        "clean_contents=re.sub('[\\w]* left the group','',clean_contents)\n",
        "clean_contents=re.sub('[\\w]* to join the group','',clean_contents)\n",
        "clean_contents=re.sub('[\\w]* can join the group','',clean_contents)"
      ],
      "execution_count": null,
      "outputs": []
    },
    {
      "cell_type": "code",
      "metadata": {
        "id": "al16syGrML5t",
        "colab": {
          "base_uri": "https://localhost:8080/",
          "height": 68
        },
        "outputId": "1fe4d820-a731-4ce5-8f7e-b5303aaa3054"
      },
      "source": [
        "char_to_index=dict((value,index) for index,value in enumerate(set(clean_contents)))\n",
        "index_to_char=dict((index,value) for index,value in enumerate(set(clean_contents)))\n",
        "print('The vocabolary size in the messages:',len(char_to_index))\n",
        "print('\\n The total number of characters in all the messages are:',len(clean_contents))"
      ],
      "execution_count": null,
      "outputs": [
        {
          "output_type": "stream",
          "text": [
            "The vocabolary size in the messages: 81\n",
            "\n",
            " The total number of characters in all the messages are: 1757397\n"
          ],
          "name": "stdout"
        }
      ]
    },
    {
      "cell_type": "markdown",
      "metadata": {
        "id": "9SoDKJIW6h75"
      },
      "source": [
        "The total number of character in messages are 1826026.The length of the vocabolary is 81"
      ]
    },
    {
      "cell_type": "code",
      "metadata": {
        "id": "wNGHBnvg3dEK"
      },
      "source": [
        "#Encoding the messages\n",
        "numerical_contents=[char_to_index[char] for char in clean_contents]\n",
        "\n",
        "#saving all the numerical contents in the drive\n",
        "np.save('/content/drive/My Drive/facebook',numerical_contents)\n",
        "with open('/content/drive/My Drive/char_to_index.pkl','wb') as f:\n",
        "    pickle.dump(char_to_index,f, pickle.HIGHEST_PROTOCOL)\n",
        "with open('/content/drive/My Drive/index_to_char.pkl','wb') as f:\n",
        "    pickle.dump(index_to_char,f, pickle.HIGHEST_PROTOCOL)\n"
      ],
      "execution_count": null,
      "outputs": []
    },
    {
      "cell_type": "code",
      "metadata": {
        "id": "53QyzqIA4sS3"
      },
      "source": [
        "#Loading all the preprocessed values from the drive\n",
        "numerical_contents=np.load('/content/drive/My Drive/facebook.npy')\n",
        "with open('/content/drive/My Drive/char_to_index.pkl','rb') as f:\n",
        "    char_to_index=pickle.load(f)\n",
        "with open('/content/drive/My Drive/index_to_char.pkl','rb') as f:\n",
        "    index_to_char=pickle.load(f)\n"
      ],
      "execution_count": null,
      "outputs": []
    },
    {
      "cell_type": "markdown",
      "metadata": {
        "id": "9ylRwE6C44JU"
      },
      "source": [
        "## Creating the model and training it."
      ]
    },
    {
      "cell_type": "markdown",
      "metadata": {
        "id": "00yTJR8llBT3"
      },
      "source": [
        "**The** **most** **important** **thing** **when** **dealing** **with** **RNN** **are** **creating** **the** **batch** **size**.\n",
        "\n",
        "How much sequential information do we want to learn depends upon the batch size. The total characters in our data=1757397, we will create a batch size of 128. Therefore there will be 128 sequencial block of data as:\n",
        "\n",
        "Total_data/batch_size => 1757397/200 => 8786 and each block will be a sequence of 14394, so by using \"statefull=True\", we can provide immense prower to RNN.\n",
        "\n",
        "  Suppose a RNN of 64 cell, each cell will process a single character only 64 character will be processed by this RNN and the sequential learning will be limited by this characteristics. By using statefull method this RNN will be capable of learning 14394 characters sequentially."
      ]
    },
    {
      "cell_type": "code",
      "metadata": {
        "id": "fUvg2jlS42Z9",
        "colab": {
          "base_uri": "https://localhost:8080/",
          "height": 34
        },
        "outputId": "9574e7dd-9cac-4cf1-c2fe-6ebc5c86b852"
      },
      "source": [
        "#If overfitting happens need to change this \n",
        "#train=numerical_contents[:int(len(numerical_contents)*75/100)] #75% in training data\n",
        "#test=numerical_contents[int(len(numerical_contents)*75/100):]  #25% in test data\n",
        "#print('The size of the training data:',len(train))\n",
        "#print('The size of the test data:',len(test))\n",
        "\n",
        "#Difining the parameters\n",
        "batch_size=200\n",
        "sequence_len=64\n",
        "epochs=150\n",
        "steps_on_epoch=int(len(numerical_contents)/batch_size/sequence_len) \n",
        "vocab_size=81\n",
        "block_size=8786\n",
        "print('The number of steps in each epoch is :',steps_on_epoch)"
      ],
      "execution_count": null,
      "outputs": [
        {
          "output_type": "stream",
          "text": [
            "The number of steps in each epoch is : 137\n"
          ],
          "name": "stdout"
        }
      ]
    },
    {
      "cell_type": "code",
      "metadata": {
        "id": "tLA4sgF-uRD7"
      },
      "source": [
        "'''\n",
        "1st_batch:                  2nd_batch:                       \n",
        "[0:64]                      [64:64*2]  \n",
        "[14208:14208+64]            [14208+64:14208+64+64]\n",
        "[14208*2:14208*2+64]        [14208*2+64:14208*2+64+64]  \n",
        "[14208*3:14208*3+64]        [14208*3:14208*3+64]\n",
        "    .  .   .\n",
        "    .  .   .\n",
        "[14208*127:14208*127+64]      \n",
        "\n",
        "Therefore, the selection code will be like this:\n",
        "\n",
        "T[steps_on_epoch*sequence_length+block_size*data_point:steps_on_epoch*sequence_length+block_size*datapoint+sequence_length]\n",
        "\n",
        "In simple terms:\n",
        "\n",
        "1st_batch:                                               2nd_batch:\n",
        "[0*64+14208*0:0*64+14208*0+64]=[0:64]                    [1*64+14208*0:1*64+14208*0+64]=[64:64+64] \n",
        "[0*64+14208*1:0*64+14208*1+64]=[14208:14208+64]          [1*64+14208*1:1*64+14208*1+64]=[64+14208:64+14208+64] \n",
        "\n",
        "'''\n",
        "\n",
        "def Selecting_batch(T,steps_on_epochs):\n",
        "    X=np.zeros([batch_size,sequence_len]) #[64,68,81]\n",
        "    y=np.zeros([batch_size,sequence_len,vocab_size]) #[16,64,81]\n",
        "    \n",
        "    Reference=steps_on_epochs*sequence_len+block_size #indicating where to select the data point\n",
        "\n",
        "    for datapoint in range(batch_size):\n",
        "        #selecting one datapoint\n",
        "        one_datapoint_x=T[steps_on_epochs*sequence_len+block_size*datapoint : steps_on_epochs*sequence_len+block_size*datapoint+sequence_len]\n",
        "  \n",
        "        one_datapoint_y=T[steps_on_epochs*sequence_len+block_size*datapoint+1 : steps_on_epochs*sequence_len+block_size*datapoint+sequence_len+1]\n",
        "\n",
        "        one_hot_encoder=np.zeros([sequence_len,vocab_size])\n",
        "        \n",
        "        for i in range(sequence_len):\n",
        "             one_hot_encoder[i,one_datapoint_y[i]]=1\n",
        "\n",
        "        X[datapoint]=one_datapoint_x\n",
        "        y[datapoint]=one_hot_encoder\n",
        "    return X,y"
      ],
      "execution_count": null,
      "outputs": []
    },
    {
      "cell_type": "markdown",
      "metadata": {
        "id": "mvMpLOpPxglx"
      },
      "source": [
        "This makes it clear that there is no problem in the batching of our data the error is there because of the other factor"
      ]
    },
    {
      "cell_type": "markdown",
      "metadata": {
        "id": "6ltsJEdMEfQz"
      },
      "source": [
        "Defining the parameters"
      ]
    },

  
    
    {
      "cell_type": "code",
      "metadata": {
        "id": "xuxIRBFy989h"
      },
      "source": [
        "#model architecture\n",
        "def create_model(batch_size,sequence_len):\n",
        "\n",
        " model=Sequential()\n",
        " model.add(layers.Embedding(vocab_size,50,batch_input_shape=(batch_size,sequence_len)))\n",
        " model.add(layers.LSTM(512,return_sequences=True,stateful=True))\n",
        " model.add(layers.Dropout(0.3))\n",
        " model.add(layers.LSTM(512,return_sequences=True,stateful=True))\n",
        " model.add(layers.Dropout(0.3))\n",
        " model.add(layers.LSTM(512,return_sequences=True,stateful=True))\n",
        " model.add(layers.Dropout(0.3))\n",
        " model.add(layers.TimeDistributed(layers.Dense(vocab_size)))\n",
        " model.add(layers.Activation('softmax'))\n",
        " return model"
      ],
      "execution_count": null,
      "outputs": []
    },
    {
      "cell_type": "code",
      "metadata": {
        "id": "XhBkOjzX5Mp0",
        "colab": {
          "base_uri": "https://localhost:8080/",
          "height": 459
        },
        "outputId": "9b1f85f5-7917-4d50-f8b1-f80b2176b8d6"
      },
      "source": [
        "model=create_model(batch_size,sequence_len)\n",
        "#model.load_weights('/content/drive/My Drive/model_weights')\n",
        "model.compile(optimizer='adam',metrics='accuracy',loss='categorical_crossentropy')\n",
        "model.summary()"
      ],
      "execution_count": null,
      "outputs": [
        {
          "output_type": "stream",
          "text": [
            "Model: \"sequential_52\"\n",
            "_________________________________________________________________\n",
            "Layer (type)                 Output Shape              Param #   \n",
            "=================================================================\n",
            "embedding_52 (Embedding)     (200, 64, 50)             4050      \n",
            "_________________________________________________________________\n",
            "lstm_152 (LSTM)              (200, 64, 512)            1153024   \n",
            "_________________________________________________________________\n",
            "dropout_144 (Dropout)        (200, 64, 512)            0         \n",
            "_________________________________________________________________\n",
            "lstm_153 (LSTM)              (200, 64, 512)            2099200   \n",
            "_________________________________________________________________\n",
            "dropout_145 (Dropout)        (200, 64, 512)            0         \n",
            "_________________________________________________________________\n",
            "lstm_154 (LSTM)              (200, 64, 512)            2099200   \n",
            "_________________________________________________________________\n",
            "dropout_146 (Dropout)        (200, 64, 512)            0         \n",
            "_________________________________________________________________\n",
            "time_distributed_49 (TimeDis (200, 64, 81)             41553     \n",
            "_________________________________________________________________\n",
            "activation_49 (Activation)   (200, 64, 81)             0         \n",
            "=================================================================\n",
            "Total params: 5,397,027\n",
            "Trainable params: 5,397,027\n",
            "Non-trainable params: 0\n",
            "_________________________________________________________________\n"
          ],
          "name": "stdout"
        }
      ]
    },
    {
      "cell_type": "code",
      "metadata": {
        "id": "ltVPSSjeyiU6",
        "colab": {
          "base_uri": "https://localhost:8080/",
          "height": 1000
        },
        "outputId": "11a0359b-1412-4609-e08a-f8853e8b35e6"
      },
      "source": [
        "#Visualizing the model\n",
        "from tensorflow.keras.utils import plot_model\n",
        "plot_model(model,show_shapes=True)"
      ],
      "execution_count": null,
      "outputs": [
        {
          "output_type": "execute_result",
          "data": {
            "image/png": "[encoded data removed]",
            "text/plain": [
              "<IPython.core.display.Image object>"
            ]
          },
          "metadata": {
            "tags": []
          },
          "execution_count": 226
        }
      ]
    },
    {
      "cell_type": "code",
      "metadata": {
        "id": "1aG4BI8qPc-F",
        "colab": {
          "base_uri": "https://localhost:8080/",
          "height": 1000
        },
        "outputId": "01d275ac-451b-4c5d-e338-49a4880ed5be"
      },
      "source": [
        "#Now training our network\n",
        "#tf.keras.backend.clear_session()\n",
        "for epoch in tqdm(range(epochs)):\n",
        "    losses=[]\n",
        "    accuracy=[]\n",
        "\n",
        "    if epoch%10==0:\n",
        "        model.save_weights('/content/drive/My Drive/new_model_weights')\n",
        "\n",
        "    for step in (range(steps_on_epoch)):\n",
        "\n",
        "        #Getting batches of train and test\n",
        "        X,Y=Selecting_batch(numerical_contents,step) #X=[68,64,81],y=[68,64,81]\n",
        "        loss,acc=model.train_on_batch(X,Y,reset_metrics=False)\n",
        "        losses.append(loss)\n",
        "        accuracy.append(acc)\n",
        "      \n",
        "    print('\\tLoss:',np.mean(np.array(losses)),', Accuracy :',np.mean(np.array(accuracy))) \n",
        "    "
      ],
      "execution_count": null,
      "outputs": [
        {
          "output_type": "stream",
          "text": [
            "\n",
            "\n",
            "\n",
            "  0%|          | 0/150 [00:00<?, ?it/s]\u001b[A\u001b[A\u001b[A\n",
            "\n",
            "\n",
            "  1%|          | 1/150 [00:17<44:11, 17.80s/it]\u001b[A\u001b[A\u001b[A"
          ],
          "name": "stderr"
        },
        {
          "output_type": "stream",
          "text": [
            "\tLoss: 3.1915688653932 , Accuracy : 0.2012331832445016\n"
          ],
          "name": "stdout"
        },
        {
          "output_type": "stream",
          "text": [
            "\n",
            "\n",
            "\n",
            "  1%|▏         | 2/150 [00:32<41:30, 16.82s/it]\u001b[A\u001b[A\u001b[A"
          ],
          "name": "stderr"
        },
        {
          "output_type": "stream",
          "text": [
            "\tLoss: 2.9035801626469966 , Accuracy : 0.24209782448563263\n"
          ],
          "name": "stdout"
        },
        {
          "output_type": "stream",
          "text": [
            "\n",
            "\n",
            "\n",
            "  2%|▏         | 3/150 [00:46<39:32, 16.14s/it]\u001b[A\u001b[A\u001b[A"
          ],
          "name": "stderr"
        },
        {
          "output_type": "stream",
          "text": [
            "\tLoss: 2.667803442391166 , Accuracy : 0.29029501506881994\n"
          ],
          "name": "stdout"
        },
        {
          "output_type": "stream",
          "text": [
            "\n",
            "\n",
            "\n",
            "  3%|▎         | 4/150 [01:01<38:06, 15.66s/it]\u001b[A\u001b[A\u001b[A"
          ],
          "name": "stderr"
        },
        {
          "output_type": "stream",
          "text": [
            "\tLoss: 2.4903160881822126 , Accuracy : 0.3312446677336728\n"
          ],
          "name": "stdout"
        },
        {
          "output_type": "stream",
          "text": [
            "\n",
            "\n",
            "\n",
            "  3%|▎         | 5/150 [01:15<37:01, 15.32s/it]\u001b[A\u001b[A\u001b[A"
          ],
          "name": "stderr"
        },
        {
          "output_type": "stream",
          "text": [
            "\tLoss: 2.3552272772266916 , Accuracy : 0.3637602914423838\n"
          ],
          "name": "stdout"
        },
        {
          "output_type": "stream",
          "text": [
            "\n",
            "\n",
            "\n",
            "  4%|▍         | 6/150 [01:30<36:14, 15.10s/it]\u001b[A\u001b[A\u001b[A"
          ],
          "name": "stderr"
        },
        {
          "output_type": "stream",
          "text": [
            "\tLoss: 2.2478341917051887 , Accuracy : 0.39014023259608416\n"
          ],
          "name": "stdout"
        },
        {
          "output_type": "stream",
          "text": [
            "\n",
            "\n",
            "\n",
            "  5%|▍         | 7/150 [01:45<35:34, 14.93s/it]\u001b[A\u001b[A\u001b[A"
          ],
          "name": "stderr"
        },
        {
          "output_type": "stream",
          "text": [
            "\tLoss: 2.1602078302063212 , Accuracy : 0.411856517086934\n"
          ],
          "name": "stdout"
        },
        {
          "output_type": "stream",
          "text": [
            "\n",
            "\n",
            "\n",
            "  5%|▌         | 8/150 [01:59<35:04, 14.82s/it]\u001b[A\u001b[A\u001b[A"
          ],
          "name": "stderr"
        },
        {
          "output_type": "stream",
          "text": [
            "\tLoss: 2.0874175416292067 , Accuracy : 0.430049355012657\n"
          ],
          "name": "stdout"
        },
        {
          "output_type": "stream",
          "text": [
            "\n",
            "\n",
            "\n",
            "  6%|▌         | 9/150 [02:14<34:37, 14.73s/it]\u001b[A\u001b[A\u001b[A"
          ],
          "name": "stderr"
        },
        {
          "output_type": "stream",
          "text": [
            "\tLoss: 2.026057079760698 , Accuracy : 0.4454014584095809\n"
          ],
          "name": "stdout"
        },
        {
          "output_type": "stream",
          "text": [
            "\n",
            "\n",
            "\n",
            "  7%|▋         | 10/150 [02:28<34:15, 14.68s/it]\u001b[A\u001b[A\u001b[A"
          ],
          "name": "stderr"
        },
        {
          "output_type": "stream",
          "text": [
            "\tLoss: 1.973559751127758 , Accuracy : 0.45855599794074564\n"
          ],
          "name": "stdout"
        },
        {
          "output_type": "stream",
          "text": [
            "\n",
            "\n",
            "\n",
            "  7%|▋         | 11/150 [02:43<34:06, 14.73s/it]\u001b[A\u001b[A\u001b[A"
          ],
          "name": "stderr"
        },
        {
          "output_type": "stream",
          "text": [
            "\tLoss: 1.9281238134760057 , Accuracy : 0.4699510222803937\n"
          ],
          "name": "stdout"
        },
        {
          "output_type": "stream",
          "text": [
            "\n",
            "\n",
            "\n",
            "  8%|▊         | 12/150 [02:58<33:46, 14.69s/it]\u001b[A\u001b[A\u001b[A"
          ],
          "name": "stderr"
        },
        {
          "output_type": "stream",
          "text": [
            "\tLoss: 1.8883387833616159 , Accuracy : 0.4799152697524885\n"
          ],
          "name": "stdout"
        },
        {
          "output_type": "stream",
          "text": [
            "\n",
            "\n",
            "\n",
            "  9%|▊         | 13/150 [03:12<33:26, 14.65s/it]\u001b[A\u001b[A\u001b[A"
          ],
          "name": "stderr"
        },
        {
          "output_type": "stream",
          "text": [
            "\tLoss: 1.8530707620356204 , Accuracy : 0.488732202862301\n"
          ],
          "name": "stdout"
        },
        {
          "output_type": "stream",
          "text": [
            "\n",
            "\n",
            "\n",
            "  9%|▉         | 14/150 [03:27<33:08, 14.62s/it]\u001b[A\u001b[A\u001b[A"
          ],
          "name": "stderr"
        },
        {
          "output_type": "stream",
          "text": [
            "\tLoss: 1.8215747071008612 , Accuracy : 0.49659813516331414\n"
          ],
          "name": "stdout"
        },
        {
          "output_type": "stream",
          "text": [
            "\n",
            "\n",
            "\n",
            " 10%|█         | 15/150 [03:41<32:51, 14.60s/it]\u001b[A\u001b[A\u001b[A"
          ],
          "name": "stderr"
        },
        {
          "output_type": "stream",
          "text": [
            "\tLoss: 1.7931920377007367 , Accuracy : 0.5036968079796673\n"
          ],
          "name": "stdout"
        },
        {
          "output_type": "stream",
          "text": [
            "\n",
            "\n",
            "\n",
            " 11%|█         | 16/150 [03:56<32:37, 14.61s/it]\u001b[A\u001b[A\u001b[A"
          ],
          "name": "stderr"
        },
        {
          "output_type": "stream",
          "text": [
            "\tLoss: 1.767560353244308 , Accuracy : 0.5101134315894468\n"
          ],
          "name": "stdout"
        },
        {
          "output_type": "stream",
          "text": [
            "\n",
            "\n",
            "\n",
            " 11%|█▏        | 17/150 [04:11<32:22, 14.61s/it]\u001b[A\u001b[A\u001b[A"
          ],
          "name": "stderr"
        },
        {
          "output_type": "stream",
          "text": [
            "\tLoss: 1.7441500425338745 , Accuracy : 0.5159627355798317\n"
          ],
          "name": "stdout"
        },
        {
          "output_type": "stream",
          "text": [
            "\n",
            "\n",
            "\n",
            " 12%|█▏        | 18/150 [04:25<32:07, 14.60s/it]\u001b[A\u001b[A\u001b[A"
          ],
          "name": "stderr"
        },
        {
          "output_type": "stream",
          "text": [
            "\tLoss: 1.722688717563657 , Accuracy : 0.5213129650937379\n"
          ],
          "name": "stdout"
        },
        {
          "output_type": "stream",
          "text": [
            "\n",
            "\n",
            "\n",
            " 13%|█▎        | 19/150 [04:40<31:52, 14.60s/it]\u001b[A\u001b[A\u001b[A"
          ],
          "name": "stderr"
        },
        {
          "output_type": "stream",
          "text": [
            "\tLoss: 1.7029108070109011 , Accuracy : 0.5262437889175694\n"
          ],
          "name": "stdout"
        },
        {
          "output_type": "stream",
          "text": [
            "\n",
            "\n",
            "\n",
            " 13%|█▎        | 20/150 [04:54<31:35, 14.58s/it]\u001b[A\u001b[A\u001b[A"
          ],
          "name": "stderr"
        },
        {
          "output_type": "stream",
          "text": [
            "\tLoss: 1.6846233197372324 , Accuracy : 0.5308049821505582\n"
          ],
          "name": "stdout"
        },
        {
          "output_type": "stream",
          "text": [
            "\n",
            "\n",
            "\n",
            " 14%|█▍        | 21/150 [05:09<31:33, 14.68s/it]\u001b[A\u001b[A\u001b[A"
          ],
          "name": "stderr"
        },
        {
          "output_type": "stream",
          "text": [
            "\tLoss: 1.6676512782591102 , Accuracy : 0.5350381892963048\n"
          ],
          "name": "stdout"
        },
        {
          "output_type": "stream",
          "text": [
            "\n",
            "\n",
            "\n",
            " 15%|█▍        | 22/150 [05:24<31:16, 14.66s/it]\u001b[A\u001b[A\u001b[A"
          ],
          "name": "stderr"
        },
        {
          "output_type": "stream",
          "text": [
            "\tLoss: 1.6518181866972985 , Accuracy : 0.5389854834027534\n"
          ],
          "name": "stdout"
        },
        {
          "output_type": "stream",
          "text": [
            "\n",
            "\n",
            "\n",
            " 15%|█▌        | 23/150 [05:38<31:00, 14.65s/it]\u001b[A\u001b[A\u001b[A"
          ],
          "name": "stderr"
        },
        {
          "output_type": "stream",
          "text": [
            "\tLoss: 1.6369739118283682 , Accuracy : 0.5426772228122627\n"
          ],
          "name": "stdout"
        },
        {
          "output_type": "stream",
          "text": [
            "\n",
            "\n",
            "\n",
            " 16%|█▌        | 24/150 [05:53<30:46, 14.65s/it]\u001b[A\u001b[A\u001b[A"
          ],
          "name": "stderr"
        },
        {
          "output_type": "stream",
          "text": [
            "\tLoss: 1.6230406665453945 , Accuracy : 0.5461536628486466\n"
          ],
          "name": "stdout"
        },
        {
          "output_type": "stream",
          "text": [
            "\n",
            "\n",
            "\n",
            " 17%|█▋        | 25/150 [06:08<30:29, 14.64s/it]\u001b[A\u001b[A\u001b[A"
          ],
          "name": "stderr"
        },
        {
          "output_type": "stream",
          "text": [
            "\tLoss: 1.609857210277641 , Accuracy : 0.5494386836560103\n"
          ],
          "name": "stdout"
        },
        {
          "output_type": "stream",
          "text": [
            "\n",
            "\n",
            "\n",
            " 17%|█▋        | 26/150 [06:22<30:13, 14.63s/it]\u001b[A\u001b[A\u001b[A"
          ],
          "name": "stderr"
        },
        {
          "output_type": "stream",
          "text": [
            "\tLoss: 1.5973788134373017 , Accuracy : 0.5525419024655419\n"
          ],
          "name": "stdout"
        },
        {
          "output_type": "stream",
          "text": [
            "\n",
            "\n",
            "\n",
            " 18%|█▊        | 27/150 [06:37<29:57, 14.61s/it]\u001b[A\u001b[A\u001b[A"
          ],
          "name": "stderr"
        },
        {
          "output_type": "stream",
          "text": [
            "\tLoss: 1.5855525801651669 , Accuracy : 0.5554829035362188\n"
          ],
          "name": "stdout"
        },
        {
          "output_type": "stream",
          "text": [
            "\n",
            "\n",
            "\n",
            " 19%|█▊        | 28/150 [06:51<29:42, 14.61s/it]\u001b[A\u001b[A\u001b[A"
          ],
          "name": "stderr"
        },
        {
          "output_type": "stream",
          "text": [
            "\tLoss: 1.5743394289573613 , Accuracy : 0.558264709737179\n"
          ],
          "name": "stdout"
        },
        {
          "output_type": "stream",
          "text": [
            "\n",
            "\n",
            "\n",
            " 19%|█▉        | 29/150 [07:06<29:28, 14.61s/it]\u001b[A\u001b[A\u001b[A"
          ],
          "name": "stderr"
        },
        {
          "output_type": "stream",
          "text": [
            "\tLoss: 1.563688973440741 , Accuracy : 0.5609045311482284\n"
          ],
          "name": "stdout"
        },
        {
          "output_type": "stream",
          "text": [
            "\n",
            "\n",
            "\n",
            " 20%|██        | 30/150 [07:21<29:13, 14.62s/it]\u001b[A\u001b[A\u001b[A"
          ],
          "name": "stderr"
        },
        {
          "output_type": "stream",
          "text": [
            "\tLoss: 1.553513209315112 , Accuracy : 0.5634272968682059\n"
          ],
          "name": "stdout"
        },
        {
          "output_type": "stream",
          "text": [
            "\n",
            "\n",
            "\n",
            " 21%|██        | 31/150 [07:36<29:07, 14.69s/it]\u001b[A\u001b[A\u001b[A"
          ],
          "name": "stderr"
        },
        {
          "output_type": "stream",
          "text": [
            "\tLoss: 1.5438247475310833 , Accuracy : 0.5658286701153664\n"
          ],
          "name": "stdout"
        },
        {
          "output_type": "stream",
          "text": [
            "\n",
            "\n",
            "\n",
            " 21%|██▏       | 32/150 [07:50<28:51, 14.68s/it]\u001b[A\u001b[A\u001b[A"
          ],
          "name": "stderr"
        },
        {
          "output_type": "stream",
          "text": [
            "\tLoss: 1.53457824940229 , Accuracy : 0.5681156855430046\n"
          ],
          "name": "stdout"
        },
        {
          "output_type": "stream",
          "text": [
            "\n",
            "\n",
            "\n",
            " 22%|██▏       | 33/150 [08:05<28:34, 14.66s/it]\u001b[A\u001b[A\u001b[A"
          ],
          "name": "stderr"
        },
        {
          "output_type": "stream",
          "text": [
            "\tLoss: 1.5256868940200248 , Accuracy : 0.5703097751540859\n"
          ],
          "name": "stdout"
        },
        {
          "output_type": "stream",
          "text": [
            "\n",
            "\n",
            "\n",
            " 23%|██▎       | 34/150 [08:20<28:20, 14.66s/it]\u001b[A\u001b[A\u001b[A"
          ],
          "name": "stderr"
        },
        {
          "output_type": "stream",
          "text": [
            "\tLoss: 1.517156320766811 , Accuracy : 0.5724242212128465\n"
          ],
          "name": "stdout"
        },
        {
          "output_type": "stream",
          "text": [
            "\n",
            "\n",
            "\n",
            " 23%|██▎       | 35/150 [08:34<28:06, 14.67s/it]\u001b[A\u001b[A\u001b[A"
          ],
          "name": "stderr"
        },
        {
          "output_type": "stream",
          "text": [
            "\tLoss: 1.508967864252355 , Accuracy : 0.5744484867492732\n"
          ],
          "name": "stdout"
        },
        {
          "output_type": "stream",
          "text": [
            "\n",
            "\n",
            "\n",
            " 24%|██▍       | 36/150 [08:49<27:54, 14.69s/it]\u001b[A\u001b[A\u001b[A"
          ],
          "name": "stderr"
        },
        {
          "output_type": "stream",
          "text": [
            "\tLoss: 1.5010870277446553 , Accuracy : 0.5763989913202551\n"
          ],
          "name": "stdout"
        },
        {
          "output_type": "stream",
          "text": [
            "\n",
            "\n",
            "\n",
            " 25%|██▍       | 37/150 [09:04<27:42, 14.71s/it]\u001b[A\u001b[A\u001b[A"
          ],
          "name": "stderr"
        },
        {
          "output_type": "stream",
          "text": [
            "\tLoss: 1.4935050263021985 , Accuracy : 0.5782690039516365\n"
          ],
          "name": "stdout"
        },
        {
          "output_type": "stream",
          "text": [
            "\n",
            "\n",
            "\n",
            " 25%|██▌       | 38/150 [09:18<27:29, 14.73s/it]\u001b[A\u001b[A\u001b[A"
          ],
          "name": "stderr"
        },
        {
          "output_type": "stream",
          "text": [
            "\tLoss: 1.4861818056036955 , Accuracy : 0.5800805609591686\n"
          ],
          "name": "stdout"
        },
        {
          "output_type": "stream",
          "text": [
            "\n",
            "\n",
            "\n",
            " 26%|██▌       | 39/150 [09:33<27:16, 14.74s/it]\u001b[A\u001b[A\u001b[A"
          ],
          "name": "stderr"
        },
        {
          "output_type": "stream",
          "text": [
            "\tLoss: 1.4790872405045223 , Accuracy : 0.5818351624655898\n"
          ],
          "name": "stdout"
        },
        {
          "output_type": "stream",
          "text": [
            "\n",
            "\n",
            "\n",
            " 27%|██▋       | 40/150 [09:48<27:02, 14.75s/it]\u001b[A\u001b[A\u001b[A"
          ],
          "name": "stderr"
        },
        {
          "output_type": "stream",
          "text": [
            "\tLoss: 1.472236329621642 , Accuracy : 0.583529885667954\n"
          ],
          "name": "stdout"
        },
        {
          "output_type": "stream",
          "text": [
            "\n",
            "\n",
            "\n",
            " 27%|██▋       | 41/150 [10:03<26:58, 14.85s/it]\u001b[A\u001b[A\u001b[A"
          ],
          "name": "stderr"
        },
        {
          "output_type": "stream",
          "text": [
            "\tLoss: 1.4656145920718673 , Accuracy : 0.5851647584107671\n"
          ],
          "name": "stdout"
        },
        {
          "output_type": "stream",
          "text": [
            "\n",
            "\n",
            "\n",
            " 28%|██▊       | 42/150 [10:18<26:42, 14.84s/it]\u001b[A\u001b[A\u001b[A"
          ],
          "name": "stderr"
        },
        {
          "output_type": "stream",
          "text": [
            "\tLoss: 1.4592002839067557 , Accuracy : 0.586750832352325\n"
          ],
          "name": "stdout"
        },
        {
          "output_type": "stream",
          "text": [
            "\n",
            "\n",
            "\n",
            " 29%|██▊       | 43/150 [10:33<26:27, 14.83s/it]\u001b[A\u001b[A\u001b[A"
          ],
          "name": "stderr"
        },
        {
          "output_type": "stream",
          "text": [
            "\tLoss: 1.4529953977487382 , Accuracy : 0.5882874218216778\n"
          ],
          "name": "stdout"
        },
        {
          "output_type": "stream",
          "text": [
            "\n",
            "\n",
            "\n",
            " 29%|██▉       | 44/150 [10:47<26:09, 14.80s/it]\u001b[A\u001b[A\u001b[A"
          ],
          "name": "stderr"
        },
        {
          "output_type": "stream",
          "text": [
            "\tLoss: 1.4469747299695537 , Accuracy : 0.5897770219475683\n"
          ],
          "name": "stdout"
        },
        {
          "output_type": "stream",
          "text": [
            "\n",
            "\n",
            "\n",
            " 30%|███       | 45/150 [11:02<25:53, 14.80s/it]\u001b[A\u001b[A\u001b[A"
          ],
          "name": "stderr"
        },
        {
          "output_type": "stream",
          "text": [
            "\tLoss: 1.44116600499536 , Accuracy : 0.5912145223930805\n"
          ],
          "name": "stdout"
        },
        {
          "output_type": "stream",
          "text": [
            "\n",
            "\n",
            "\n",
            " 31%|███       | 46/150 [11:17<25:36, 14.78s/it]\u001b[A\u001b[A\u001b[A"
          ],
          "name": "stderr"
        },
        {
          "output_type": "stream",
          "text": [
            "\tLoss: 1.4355500779882835 , Accuracy : 0.5926037817975901\n"
          ],
          "name": "stdout"
        },
        {
          "output_type": "stream",
          "text": [
            "\n",
            "\n",
            "\n",
            " 31%|███▏      | 47/150 [11:32<25:21, 14.77s/it]\u001b[A\u001b[A\u001b[A"
          ],
          "name": "stderr"
        },
        {
          "output_type": "stream",
          "text": [
            "\tLoss: 1.4301007638012406 , Accuracy : 0.5939465460986116\n"
          ],
          "name": "stdout"
        },
        {
          "output_type": "stream",
          "text": [
            "\n",
            "\n",
            "\n",
            " 32%|███▏      | 48/150 [11:46<25:06, 14.77s/it]\u001b[A\u001b[A\u001b[A"
          ],
          "name": "stderr"
        },
        {
          "output_type": "stream",
          "text": [
            "\tLoss: 1.4247829783571897 , Accuracy : 0.5952606005390195\n"
          ],
          "name": "stdout"
        },
        {
          "output_type": "stream",
          "text": [
            "\n",
            "\n",
            "\n",
            " 33%|███▎      | 49/150 [12:01<24:51, 14.77s/it]\u001b[A\u001b[A\u001b[A"
          ],
          "name": "stderr"
        },
        {
          "output_type": "stream",
          "text": [
            "\tLoss: 1.4195997732399155 , Accuracy : 0.596541613557913\n"
          ],
          "name": "stdout"
        },
        {
          "output_type": "stream",
          "text": [
            "\n",
            "\n",
            "\n",
            " 33%|███▎      | 50/150 [12:16<24:37, 14.77s/it]\u001b[A\u001b[A\u001b[A"
          ],
          "name": "stderr"
        },
        {
          "output_type": "stream",
          "text": [
            "\tLoss: 1.4145323960450444 , Accuracy : 0.5977964227216958\n"
          ],
          "name": "stdout"
        },
        {
          "output_type": "stream",
          "text": [
            "\n",
            "\n",
            "\n",
            " 34%|███▍      | 51/150 [12:31<24:32, 14.87s/it]\u001b[A\u001b[A\u001b[A"
          ],
          "name": "stderr"
        },
        {
          "output_type": "stream",
          "text": [
            "\tLoss: 1.4095984070840544 , Accuracy : 0.5990132415381662\n"
          ],
          "name": "stdout"
        },
        {
          "output_type": "stream",
          "text": [
            "\n",
            "\n",
            "\n",
            " 35%|███▍      | 52/150 [12:46<24:14, 14.84s/it]\u001b[A\u001b[A\u001b[A"
          ],
          "name": "stderr"
        },
        {
          "output_type": "stream",
          "text": [
            "\tLoss: 1.40477725624168 , Accuracy : 0.6002057085942177\n"
          ],
          "name": "stdout"
        },
        {
          "output_type": "stream",
          "text": [
            "\n",
            "\n",
            "\n",
            " 35%|███▌      | 53/150 [13:01<23:57, 14.82s/it]\u001b[A\u001b[A\u001b[A"
          ],
          "name": "stderr"
        },
        {
          "output_type": "stream",
          "text": [
            "\tLoss: 1.4000648347130658 , Accuracy : 0.6013744060140457\n"
          ],
          "name": "stdout"
        },
        {
          "output_type": "stream",
          "text": [
            "\n",
            "\n",
            "\n",
            " 36%|███▌      | 54/150 [13:15<23:40, 14.80s/it]\u001b[A\u001b[A\u001b[A"
          ],
          "name": "stderr"
        },
        {
          "output_type": "stream",
          "text": [
            "\tLoss: 1.3954565342325365 , Accuracy : 0.6025171584456507\n"
          ],
          "name": "stdout"
        },
        {
          "output_type": "stream",
          "text": [
            "\n",
            "\n",
            "\n",
            " 37%|███▋      | 55/150 [13:30<23:24, 14.79s/it]\u001b[A\u001b[A\u001b[A"
          ],
          "name": "stderr"
        },
        {
          "output_type": "stream",
          "text": [
            "\tLoss: 1.3909693556110354 , Accuracy : 0.6036229177112997\n"
          ],
          "name": "stdout"
        },
        {
          "output_type": "stream",
          "text": [
            "\n",
            "\n",
            "\n",
            " 37%|███▋      | 56/150 [13:45<23:09, 14.78s/it]\u001b[A\u001b[A\u001b[A"
          ],
          "name": "stderr"
        },
        {
          "output_type": "stream",
          "text": [
            "\tLoss: 1.3865909445894895 , Accuracy : 0.6047006084101043\n"
          ],
          "name": "stdout"
        },
        {
          "output_type": "stream",
          "text": [
            "\n",
            "\n",
            "\n",
            " 38%|███▊      | 57/150 [14:00<22:54, 14.78s/it]\u001b[A\u001b[A\u001b[A"
          ],
          "name": "stderr"
        },
        {
          "output_type": "stream",
          "text": [
            "\tLoss: 1.3823077844007172 , Accuracy : 0.6057558573075454\n"
          ],
          "name": "stdout"
        },
        {
          "output_type": "stream",
          "text": [
            "\n",
            "\n",
            "\n",
            " 39%|███▊      | 58/150 [14:15<22:40, 14.79s/it]\u001b[A\u001b[A\u001b[A"
          ],
          "name": "stderr"
        },
        {
          "output_type": "stream",
          "text": [
            "\tLoss: 1.3780949124454582 , Accuracy : 0.6067950869128652\n"
          ],
          "name": "stdout"
        },
        {
          "output_type": "stream",
          "text": [
            "\n",
            "\n",
            "\n",
            " 39%|███▉      | 59/150 [14:29<22:25, 14.79s/it]\u001b[A\u001b[A\u001b[A"
          ],
          "name": "stderr"
        },
        {
          "output_type": "stream",
          "text": [
            "\tLoss: 1.3739859135481562 , Accuracy : 0.6078123811387668\n"
          ],
          "name": "stdout"
        },
        {
          "output_type": "stream",
          "text": [
            "\n",
            "\n",
            "\n",
            " 40%|████      | 60/150 [14:44<22:10, 14.79s/it]\u001b[A\u001b[A\u001b[A"
          ],
          "name": "stderr"
        },
        {
          "output_type": "stream",
          "text": [
            "\tLoss: 1.3699559129937722 , Accuracy : 0.6088087075818194\n"
          ],
          "name": "stdout"
        },
        {
          "output_type": "stream",
          "text": [
            "\n",
            "\n",
            "\n",
            " 41%|████      | 61/150 [14:59<22:04, 14.88s/it]\u001b[A\u001b[A\u001b[A"
          ],
          "name": "stderr"
        },
        {
          "output_type": "stream",
          "text": [
            "\tLoss: 1.3660139237007085 , Accuracy : 0.6097834493121962\n"
          ],
          "name": "stdout"
        },
        {
          "output_type": "stream",
          "text": [
            "\n",
            "\n",
            "\n",
            " 41%|████▏     | 62/150 [15:14<21:47, 14.85s/it]\u001b[A\u001b[A\u001b[A"
          ],
          "name": "stderr"
        },
        {
          "output_type": "stream",
          "text": [
            "\tLoss: 1.3621602737120468 , Accuracy : 0.6107339819852453\n"
          ],
          "name": "stdout"
        },
        {
          "output_type": "stream",
          "text": [
            "\n",
            "\n",
            "\n",
            " 42%|████▏     | 63/150 [15:29<21:30, 14.83s/it]\u001b[A\u001b[A\u001b[A"
          ],
          "name": "stderr"
        },
        {
          "output_type": "stream",
          "text": [
            "\tLoss: 1.3583867314958225 , Accuracy : 0.6116660341729213\n"
          ],
          "name": "stdout"
        },
        {
          "output_type": "stream",
          "text": [
            "\n",
            "\n",
            "\n",
            " 43%|████▎     | 64/150 [15:44<21:15, 14.83s/it]\u001b[A\u001b[A\u001b[A"
          ],
          "name": "stderr"
        },
        {
          "output_type": "stream",
          "text": [
            "\tLoss: 1.3546986066511948 , Accuracy : 0.6125772242998555\n"
          ],
          "name": "stdout"
        },
        {
          "output_type": "stream",
          "text": [
            "\n",
            "\n",
            "\n",
            " 43%|████▎     | 65/150 [15:58<20:59, 14.82s/it]\u001b[A\u001b[A\u001b[A"
          ],
          "name": "stderr"
        },
        {
          "output_type": "stream",
          "text": [
            "\tLoss: 1.3510991543748954 , Accuracy : 0.6134656062961494\n"
          ],
          "name": "stdout"
        },
        {
          "output_type": "stream",
          "text": [
            "\n",
            "\n",
            "\n",
            " 44%|████▍     | 66/150 [16:13<20:43, 14.80s/it]\u001b[A\u001b[A\u001b[A"
          ],
          "name": "stderr"
        },
        {
          "output_type": "stream",
          "text": [
            "\tLoss: 1.3475710066565632 , Accuracy : 0.6143375178323175\n"
          ],
          "name": "stdout"
        },
        {
          "output_type": "stream",
          "text": [
            "\n",
            "\n",
            "\n",
            " 45%|████▍     | 67/150 [16:28<20:27, 14.79s/it]\u001b[A\u001b[A\u001b[A"
          ],
          "name": "stderr"
        },
        {
          "output_type": "stream",
          "text": [
            "\tLoss: 1.3440964874559946 , Accuracy : 0.6151953274316161\n"
          ],
          "name": "stdout"
        },
        {
          "output_type": "stream",
          "text": [
            "\n",
            "\n",
            "\n",
            " 45%|████▌     | 68/150 [16:43<20:12, 14.79s/it]\u001b[A\u001b[A\u001b[A"
          ],
          "name": "stderr"
        },
        {
          "output_type": "stream",
          "text": [
            "\tLoss: 1.3407068583216981 , Accuracy : 0.6160304724735065\n"
          ],
          "name": "stdout"
        },
        {
          "output_type": "stream",
          "text": [
            "\n",
            "\n",
            "\n",
            " 46%|████▌     | 69/150 [16:57<19:57, 14.79s/it]\u001b[A\u001b[A\u001b[A"
          ],
          "name": "stderr"
        },
        {
          "output_type": "stream",
          "text": [
            "\tLoss: 1.3373907787086319 , Accuracy : 0.6168500889826866\n"
          ],
          "name": "stdout"
        },
        {
          "output_type": "stream",
          "text": [
            "\n",
            "\n",
            "\n",
            " 47%|████▋     | 70/150 [17:12<19:42, 14.79s/it]\u001b[A\u001b[A\u001b[A"
          ],
          "name": "stderr"
        },
        {
          "output_type": "stream",
          "text": [
            "\tLoss: 1.3341441137077164 , Accuracy : 0.6176523266047457\n"
          ],
          "name": "stdout"
        },
        {
          "output_type": "stream",
          "text": [
            "\n",
            "\n",
            "\n",
            " 47%|████▋     | 71/150 [17:27<19:33, 14.86s/it]\u001b[A\u001b[A\u001b[A"
          ],
          "name": "stderr"
        },
        {
          "output_type": "stream",
          "text": [
            "\tLoss: 1.3309495640497138 , Accuracy : 0.6184439850549628\n"
          ],
          "name": "stdout"
        },
        {
          "output_type": "stream",
          "text": [
            "\n",
            "\n",
            "\n",
            " 48%|████▊     | 72/150 [17:42<19:17, 14.84s/it]\u001b[A\u001b[A\u001b[A"
          ],
          "name": "stderr"
        },
        {
          "output_type": "stream",
          "text": [
            "\tLoss: 1.3278064597262083 , Accuracy : 0.6192218495981536\n"
          ],
          "name": "stdout"
        },
        {
          "output_type": "stream",
          "text": [
            "\n",
            "\n",
            "\n",
            " 49%|████▊     | 73/150 [17:57<19:00, 14.81s/it]\u001b[A\u001b[A\u001b[A"
          ],
          "name": "stderr"
        },
        {
          "output_type": "stream",
          "text": [
            "\tLoss: 1.3247089673132793 , Accuracy : 0.6199872841800216\n"
          ],
          "name": "stdout"
        },
        {
          "output_type": "stream",
          "text": [
            "\n",
            "\n",
            "\n",
            " 49%|████▉     | 74/150 [18:12<18:44, 14.80s/it]\u001b[A\u001b[A\u001b[A"
          ],
          "name": "stderr"
        },
        {
          "output_type": "stream",
          "text": [
            "\tLoss: 1.32166465355532 , Accuracy : 0.6207367803928626\n"
          ],
          "name": "stdout"
        },
        {
          "output_type": "stream",
          "text": [
            "\n",
            "\n",
            "\n",
            " 50%|█████     | 75/150 [18:26<18:28, 14.79s/it]\u001b[A\u001b[A\u001b[A"
          ],
          "name": "stderr"
        },
        {
          "output_type": "stream",
          "text": [
            "\tLoss: 1.318667135099425 , Accuracy : 0.6214797618615366\n"
          ],
          "name": "stdout"
        },
        {
          "output_type": "stream",
          "text": [
            "\n",
            "\n",
            "\n",
            " 51%|█████     | 76/150 [18:41<18:13, 14.77s/it]\u001b[A\u001b[A\u001b[A"
          ],
          "name": "stderr"
        },
        {
          "output_type": "stream",
          "text": [
            "\tLoss: 1.3157172777356894 , Accuracy : 0.6222104708643725\n"
          ],
          "name": "stdout"
        },
        {
          "output_type": "stream",
          "text": [
            "\n",
            "\n",
            "\n",
            " 51%|█████▏    | 77/150 [18:56<17:58, 14.77s/it]\u001b[A\u001b[A\u001b[A"
          ],
          "name": "stderr"
        },
        {
          "output_type": "stream",
          "text": [
            "\tLoss: 1.3128298982216493 , Accuracy : 0.6229245245021625\n"
          ],
          "name": "stdout"
        },
        {
          "output_type": "stream",
          "text": [
            "\n",
            "\n",
            "\n",
            " 52%|█████▏    | 78/150 [19:11<17:43, 14.77s/it]\u001b[A\u001b[A\u001b[A"
          ],
          "name": "stderr"
        },
        {
          "output_type": "stream",
          "text": [
            "\tLoss: 1.3099804838208386 , Accuracy : 0.6236312641714611\n"
          ],
          "name": "stdout"
        },
        {
          "output_type": "stream",
          "text": [
            "\n",
            "\n",
            "\n",
            " 53%|█████▎    | 79/150 [19:25<17:28, 14.76s/it]\u001b[A\u001b[A\u001b[A"
          ],
          "name": "stderr"
        },
        {
          "output_type": "stream",
          "text": [
            "\tLoss: 1.3071835841575679 , Accuracy : 0.6243247663887748\n"
          ],
          "name": "stdout"
        },
        {
          "output_type": "stream",
          "text": [
            "\n",
            "\n",
            "\n",
            " 53%|█████▎    | 80/150 [19:40<17:12, 14.75s/it]\u001b[A\u001b[A\u001b[A"
          ],
          "name": "stderr"
        },
        {
          "output_type": "stream",
          "text": [
            "\tLoss: 1.3044231338222532 , Accuracy : 0.6250094262352826\n"
          ],
          "name": "stdout"
        },
        {
          "output_type": "stream",
          "text": [
            "\n",
            "\n",
            "\n",
            " 54%|█████▍    | 81/150 [19:55<17:03, 14.83s/it]\u001b[A\u001b[A\u001b[A"
          ],
          "name": "stderr"
        },
        {
          "output_type": "stream",
          "text": [
            "\tLoss: 1.3016985976783029 , Accuracy : 0.6256844540582086\n"
          ],
          "name": "stdout"
        },
        {
          "output_type": "stream",
          "text": [
            "\n",
            "\n",
            "\n",
            " 55%|█████▍    | 82/150 [20:10<16:47, 14.81s/it]\u001b[A\u001b[A\u001b[A"
          ],
          "name": "stderr"
        },
        {
          "output_type": "stream",
          "text": [
            "\tLoss: 1.2990195507550761 , Accuracy : 0.6263506347245543\n"
          ],
          "name": "stdout"
        },
        {
          "output_type": "stream",
          "text": [
            "\n",
            "\n",
            "\n",
            " 55%|█████▌    | 83/150 [20:25<16:32, 14.81s/it]\u001b[A\u001b[A\u001b[A"
          ],
          "name": "stderr"
        },
        {
          "output_type": "stream",
          "text": [
            "\tLoss: 1.2963831520428624 , Accuracy : 0.6270043027662012\n"
          ],
          "name": "stdout"
        },
        {
          "output_type": "stream",
          "text": [
            "\n",
            "\n",
            "\n",
            " 56%|█████▌    | 84/150 [20:39<16:17, 14.81s/it]\u001b[A\u001b[A\u001b[A"
          ],
          "name": "stderr"
        },
        {
          "output_type": "stream",
          "text": [
            "\tLoss: 1.2937976678792578 , Accuracy : 0.6276443844294026\n"
          ],
          "name": "stdout"
        },
        {
          "output_type": "stream",
          "text": [
            "\n",
            "\n",
            "\n",
            " 57%|█████▋    | 85/150 [20:54<16:02, 14.80s/it]\u001b[A\u001b[A\u001b[A"
          ],
          "name": "stderr"
        },
        {
          "output_type": "stream",
          "text": [
            "\tLoss: 1.291252122308216 , Accuracy : 0.6282735136303589\n"
          ],
          "name": "stdout"
        },
        {
          "output_type": "stream",
          "text": [
            "\n",
            "\n",
            "\n",
            " 57%|█████▋    | 86/150 [21:09<15:46, 14.79s/it]\u001b[A\u001b[A\u001b[A"
          ],
          "name": "stderr"
        },
        {
          "output_type": "stream",
          "text": [
            "\tLoss: 1.2887416608142157 , Accuracy : 0.6288947384722912\n"
          ],
          "name": "stdout"
        },
        {
          "output_type": "stream",
          "text": [
            "\n",
            "\n",
            "\n",
            " 58%|█████▊    | 87/150 [21:24<15:31, 14.79s/it]\u001b[A\u001b[A\u001b[A"
          ],
          "name": "stderr"
        },
        {
          "output_type": "stream",
          "text": [
            "\tLoss: 1.2862791588706692 , Accuracy : 0.6295081672877291\n"
          ],
          "name": "stdout"
        },
        {
          "output_type": "stream",
          "text": [
            "\n",
            "\n",
            "\n",
            " 59%|█████▊    | 88/150 [21:39<15:16, 14.78s/it]\u001b[A\u001b[A\u001b[A"
          ],
          "name": "stderr"
        },
        {
          "output_type": "stream",
          "text": [
            "\tLoss: 1.2838425253429553 , Accuracy : 0.6301101989989734\n"
          ],
          "name": "stdout"
        },
        {
          "output_type": "stream",
          "text": [
            "\n",
            "\n",
            "\n",
            " 59%|█████▉    | 89/150 [21:53<15:01, 14.78s/it]\u001b[A\u001b[A\u001b[A"
          ],
          "name": "stderr"
        },
        {
          "output_type": "stream",
          "text": [
            "\tLoss: 1.281437418756694 , Accuracy : 0.6307052417393149\n"
          ],
          "name": "stdout"
        },
        {
          "output_type": "stream",
          "text": [
            "\n",
            "\n",
            "\n",
            " 60%|██████    | 90/150 [22:08<14:46, 14.78s/it]\u001b[A\u001b[A\u001b[A"
          ],
          "name": "stderr"
        },
        {
          "output_type": "stream",
          "text": [
            "\tLoss: 1.279073897069388 , Accuracy : 0.6312923801206324\n"
          ],
          "name": "stdout"
        },
        {
          "output_type": "stream",
          "text": [
            "\n",
            "\n",
            "\n",
            " 61%|██████    | 91/150 [22:23<14:36, 14.86s/it]\u001b[A\u001b[A\u001b[A"
          ],
          "name": "stderr"
        },
        {
          "output_type": "stream",
          "text": [
            "\tLoss: 1.27673047128385 , Accuracy : 0.6318746822593856\n"
          ],
          "name": "stdout"
        },
        {
          "output_type": "stream",
          "text": [
            "\n",
            "\n",
            "\n",
            " 61%|██████▏   | 92/150 [22:38<14:20, 14.84s/it]\u001b[A\u001b[A\u001b[A"
          ],
          "name": "stderr"
        },
        {
          "output_type": "stream",
          "text": [
            "\tLoss: 1.2744269336227083 , Accuracy : 0.6324462451203896\n"
          ],
          "name": "stdout"
        },
        {
          "output_type": "stream",
          "text": [
            "\n",
            "\n",
            "\n",
            " 62%|██████▏   | 93/150 [22:53<14:04, 14.82s/it]\u001b[A\u001b[A\u001b[A"
          ],
          "name": "stderr"
        },
        {
          "output_type": "stream",
          "text": [
            "\tLoss: 1.2721502128308706 , Accuracy : 0.6330104287523423\n"
          ],
          "name": "stdout"
        },
        {
          "output_type": "stream",
          "text": [
            "\n",
            "\n",
            "\n",
            " 63%|██████▎   | 94/150 [23:08<13:49, 14.82s/it]\u001b[A\u001b[A\u001b[A"
          ],
          "name": "stderr"
        },
        {
          "output_type": "stream",
          "text": [
            "\tLoss: 1.2699143529808434 , Accuracy : 0.6335664643858471\n"
          ],
          "name": "stdout"
        },
        {
          "output_type": "stream",
          "text": [
            "\n",
            "\n",
            "\n",
            " 63%|██████▎   | 95/150 [23:22<13:33, 14.80s/it]\u001b[A\u001b[A\u001b[A"
          ],
          "name": "stderr"
        },
        {
          "output_type": "stream",
          "text": [
            "\tLoss: 1.267705033295346 , Accuracy : 0.6341166048154344\n"
          ],
          "name": "stdout"
        },
        {
          "output_type": "stream",
          "text": [
            "\n",
            "\n",
            "\n",
            " 64%|██████▍   | 96/150 [23:37<13:19, 14.80s/it]\u001b[A\u001b[A\u001b[A"
          ],
          "name": "stderr"
        },
        {
          "output_type": "stream",
          "text": [
            "\tLoss: 1.265520765833611 , Accuracy : 0.6346593520937175\n"
          ],
          "name": "stdout"
        },
        {
          "output_type": "stream",
          "text": [
            "\n",
            "\n",
            "\n",
            " 65%|██████▍   | 97/150 [23:52<13:03, 14.78s/it]\u001b[A\u001b[A\u001b[A"
          ],
          "name": "stderr"
        },
        {
          "output_type": "stream",
          "text": [
            "\tLoss: 1.2633626930905084 , Accuracy : 0.6351969955611403\n"
          ],
          "name": "stdout"
        },
        {
          "output_type": "stream",
          "text": [
            "\n",
            "\n",
            "\n",
            " 65%|██████▌   | 98/150 [24:07<12:47, 14.75s/it]\u001b[A\u001b[A\u001b[A"
          ],
          "name": "stderr"
        },
        {
          "output_type": "stream",
          "text": [
            "\tLoss: 1.261228001900833 , Accuracy : 0.6357278092934268\n"
          ],
          "name": "stdout"
        },
        {
          "output_type": "stream",
          "text": [
            "\n",
            "\n",
            "\n",
            " 66%|██████▌   | 99/150 [24:21<12:31, 14.74s/it]\u001b[A\u001b[A\u001b[A"
          ],
          "name": "stderr"
        },
        {
          "output_type": "stream",
          "text": [
            "\tLoss: 1.2591255677007411 , Accuracy : 0.6362505159238829\n"
          ],
          "name": "stdout"
        },
        {
          "output_type": "stream",
          "text": [
            "\n",
            "\n",
            "\n",
            " 67%|██████▋   | 100/150 [24:36<12:16, 14.73s/it]\u001b[A\u001b[A\u001b[A"
          ],
          "name": "stderr"
        },
        {
          "output_type": "stream",
          "text": [
            "\tLoss: 1.2570485015855217 , Accuracy : 0.6367655692309359\n"
          ],
          "name": "stdout"
        },
        {
          "output_type": "stream",
          "text": [
            "\n",
            "\n",
            "\n",
            " 67%|██████▋   | 101/150 [24:51<12:04, 14.78s/it]\u001b[A\u001b[A\u001b[A"
          ],
          "name": "stderr"
        },
        {
          "output_type": "stream",
          "text": [
            "\tLoss: 1.2549908169864739 , Accuracy : 0.6372764210631378\n"
          ],
          "name": "stdout"
        },
        {
          "output_type": "stream",
          "text": [
            "\n",
            "\n",
            "\n",
            " 68%|██████▊   | 102/150 [25:06<11:47, 14.75s/it]\u001b[A\u001b[A\u001b[A"
          ],
          "name": "stderr"
        },
        {
          "output_type": "stream",
          "text": [
            "\tLoss: 1.252957421497707 , Accuracy : 0.63778162568155\n"
          ],
          "name": "stdout"
        },
        {
          "output_type": "stream",
          "text": [
            "\n",
            "\n",
            "\n",
            " 69%|██████▊   | 103/150 [25:20<11:32, 14.73s/it]\u001b[A\u001b[A\u001b[A"
          ],
          "name": "stderr"
        },
        {
          "output_type": "stream",
          "text": [
            "\tLoss: 1.2509485674600531 , Accuracy : 0.6382798374134259\n"
          ],
          "name": "stdout"
        },
        {
          "output_type": "stream",
          "text": [
            "\n",
            "\n",
            "\n",
            " 69%|██████▉   | 104/150 [25:35<11:16, 14.71s/it]\u001b[A\u001b[A\u001b[A"
          ],
          "name": "stderr"
        },
        {
          "output_type": "stream",
          "text": [
            "\tLoss: 1.2489684141465347 , Accuracy : 0.6387706333703368\n"
          ],
          "name": "stdout"
        },
        {
          "output_type": "stream",
          "text": [
            "\n",
            "\n",
            "\n",
            " 70%|███████   | 105/150 [25:50<11:02, 14.72s/it]\u001b[A\u001b[A\u001b[A"
          ],
          "name": "stderr"
        },
        {
          "output_type": "stream",
          "text": [
            "\tLoss: 1.2470083445528128 , Accuracy : 0.6392577255729341\n"
          ],
          "name": "stdout"
        },
        {
          "output_type": "stream",
          "text": [
            "\n",
            "\n",
            "\n",
            " 71%|███████   | 106/150 [26:04<10:47, 14.72s/it]\u001b[A\u001b[A\u001b[A"
          ],
          "name": "stderr"
        },
        {
          "output_type": "stream",
          "text": [
            "\tLoss: 1.2450701781432993 , Accuracy : 0.6397404501037877\n"
          ],
          "name": "stdout"
        },
        {
          "output_type": "stream",
          "text": [
            "\n",
            "\n",
            "\n",
            " 71%|███████▏  | 107/150 [26:19<10:32, 14.71s/it]\u001b[A\u001b[A\u001b[A"
          ],
          "name": "stderr"
        },
        {
          "output_type": "stream",
          "text": [
            "\tLoss: 1.2431529342693135 , Accuracy : 0.6402174652057843\n"
          ],
          "name": "stdout"
        },
        {
          "output_type": "stream",
          "text": [
            "\n",
            "\n",
            "\n",
            " 72%|███████▏  | 108/150 [26:34<10:17, 14.69s/it]\u001b[A\u001b[A\u001b[A"
          ],
          "name": "stderr"
        },
        {
          "output_type": "stream",
          "text": [
            "\tLoss: 1.2412624933423788 , Accuracy : 0.6406900660835043\n"
          ],
          "name": "stdout"
        },
        {
          "output_type": "stream",
          "text": [
            "\n",
            "\n",
            "\n",
            " 73%|███████▎  | 109/150 [26:48<10:02, 14.68s/it]\u001b[A\u001b[A\u001b[A"
          ],
          "name": "stderr"
        },
        {
          "output_type": "stream",
          "text": [
            "\tLoss: 1.2393844980393014 , Accuracy : 0.64115506671641\n"
          ],
          "name": "stdout"
        },
        {
          "output_type": "stream",
          "text": [
            "\n",
            "\n",
            "\n",
            " 73%|███████▎  | 110/150 [27:03<09:47, 14.68s/it]\u001b[A\u001b[A\u001b[A"
          ],
          "name": "stderr"
        },
        {
          "output_type": "stream",
          "text": [
            "\tLoss: 1.2375252925566513 , Accuracy : 0.6416164366868291\n"
          ],
          "name": "stdout"
        },
        {
          "output_type": "stream",
          "text": [
            "\n",
            "\n",
            "\n",
            " 74%|███████▍  | 111/150 [27:18<09:35, 14.77s/it]\u001b[A\u001b[A\u001b[A"
          ],
          "name": "stderr"
        },
        {
          "output_type": "stream",
          "text": [
            "\tLoss: 1.2356907399031367 , Accuracy : 0.6420735695066243\n"
          ],
          "name": "stdout"
        },
        {
          "output_type": "stream",
          "text": [
            "\n",
            "\n",
            "\n",
            " 75%|███████▍  | 112/150 [27:33<09:20, 14.75s/it]\u001b[A\u001b[A\u001b[A"
          ],
          "name": "stderr"
        },
        {
          "output_type": "stream",
          "text": [
            "\tLoss: 1.2338828048566832 , Accuracy : 0.642524785368982\n"
          ],
          "name": "stdout"
        },
        {
          "output_type": "stream",
          "text": [
            "\n",
            "\n",
            "\n",
            " 75%|███████▌  | 113/150 [27:47<09:04, 14.72s/it]\u001b[A\u001b[A\u001b[A"
          ],
          "name": "stderr"
        },
        {
          "output_type": "stream",
          "text": [
            "\tLoss: 1.232090472304908 , Accuracy : 0.6429722953016741\n"
          ],
          "name": "stdout"
        },
        {
          "output_type": "stream",
          "text": [
            "\n",
            "\n",
            "\n",
            " 76%|███████▌  | 114/150 [28:02<08:49, 14.71s/it]\u001b[A\u001b[A\u001b[A"
          ],
          "name": "stderr"
        },
        {
          "output_type": "stream",
          "text": [
            "\tLoss: 1.230319796687495 , Accuracy : 0.6434152913789679\n"
          ],
          "name": "stdout"
        },
        {
          "output_type": "stream",
          "text": [
            "\n",
            "\n",
            "\n",
            " 77%|███████▋  | 115/150 [28:17<08:35, 14.72s/it]\u001b[A\u001b[A\u001b[A"
          ],
          "name": "stderr"
        },
        {
          "output_type": "stream",
          "text": [
            "\tLoss: 1.2285652848055764 , Accuracy : 0.6438534651359502\n"
          ],
          "name": "stdout"
        },
        {
          "output_type": "stream",
          "text": [
            "\n",
            "\n",
            "\n",
            " 77%|███████▋  | 116/150 [28:31<08:20, 14.71s/it]\u001b[A\u001b[A\u001b[A"
          ],
          "name": "stderr"
        },
        {
          "output_type": "stream",
          "text": [
            "\tLoss: 1.2268253773668387 , Accuracy : 0.6442895253209302\n"
          ],
          "name": "stdout"
        },
        {
          "output_type": "stream",
          "text": [
            "\n",
            "\n",
            "\n",
            " 78%|███████▊  | 117/150 [28:46<08:05, 14.70s/it]\u001b[A\u001b[A\u001b[A"
          ],
          "name": "stderr"
        },
        {
          "output_type": "stream",
          "text": [
            "\tLoss: 1.2251099835347086 , Accuracy : 0.6447194784227079\n"
          ],
          "name": "stdout"
        },
        {
          "output_type": "stream",
          "text": [
            "\n",
            "\n",
            "\n",
            " 79%|███████▊  | 118/150 [29:01<07:49, 14.69s/it]\u001b[A\u001b[A\u001b[A"
          ],
          "name": "stderr"
        },
        {
          "output_type": "stream",
          "text": [
            "\tLoss: 1.2234152564167107 , Accuracy : 0.6451444695465756\n"
          ],
          "name": "stdout"
        },
        {
          "output_type": "stream",
          "text": [
            "\n",
            "\n",
            "\n",
            " 79%|███████▉  | 119/150 [29:16<07:35, 14.70s/it]\u001b[A\u001b[A\u001b[A"
          ],
          "name": "stderr"
        },
        {
          "output_type": "stream",
          "text": [
            "\tLoss: 1.2217446774461844 , Accuracy : 0.6455625965647454\n"
          ],
          "name": "stdout"
        },
        {
          "output_type": "stream",
          "text": [
            "\n",
            "\n",
            "\n",
            " 80%|████████  | 120/150 [29:30<07:20, 14.70s/it]\u001b[A\u001b[A\u001b[A"
          ],
          "name": "stderr"
        },
        {
          "output_type": "stream",
          "text": [
            "\tLoss: 1.2200842077714684 , Accuracy : 0.6459774944904076\n"
          ],
          "name": "stdout"
        },
        {
          "output_type": "stream",
          "text": [
            "\n",
            "\n",
            "\n",
            " 81%|████████  | 121/150 [29:45<07:08, 14.78s/it]\u001b[A\u001b[A\u001b[A"
          ],
          "name": "stderr"
        },
        {
          "output_type": "stream",
          "text": [
            "\tLoss: 1.2184386940768166 , Accuracy : 0.6463889401324474\n"
          ],
          "name": "stdout"
        },
        {
          "output_type": "stream",
          "text": [
            "\n",
            "\n",
            "\n",
            " 81%|████████▏ | 122/150 [30:00<06:52, 14.74s/it]\u001b[A\u001b[A\u001b[A"
          ],
          "name": "stderr"
        },
        {
          "output_type": "stream",
          "text": [
            "\tLoss: 1.2168146798210422 , Accuracy : 0.6467921490216777\n"
          ],
          "name": "stdout"
        },
        {
          "output_type": "stream",
          "text": [
            "\n",
            "\n",
            "\n",
            " 82%|████████▏ | 123/150 [30:15<06:37, 14.72s/it]\u001b[A\u001b[A\u001b[A"
          ],
          "name": "stderr"
        },
        {
          "output_type": "stream",
          "text": [
            "\tLoss: 1.2152071529931396 , Accuracy : 0.6471916106495544\n"
          ],
          "name": "stdout"
        },
        {
          "output_type": "stream",
          "text": [
            "\n",
            "\n",
            "\n",
            " 83%|████████▎ | 124/150 [30:29<06:22, 14.71s/it]\u001b[A\u001b[A\u001b[A"
          ],
          "name": "stderr"
        },
        {
          "output_type": "stream",
          "text": [
            "\tLoss: 1.213618760561421 , Accuracy : 0.6475883235026451\n"
          ],
          "name": "stdout"
        },
        {
          "output_type": "stream",
          "text": [
            "\n",
            "\n",
            "\n",
            " 83%|████████▎ | 125/150 [30:44<06:07, 14.70s/it]\u001b[A\u001b[A\u001b[A"
          ],
          "name": "stderr"
        },
        {
          "output_type": "stream",
          "text": [
            "\tLoss: 1.2120446810757157 , Accuracy : 0.6479847278908222\n"
          ],
          "name": "stdout"
        },
        {
          "output_type": "stream",
          "text": [
            "\n",
            "\n",
            "\n",
            " 84%|████████▍ | 126/150 [30:59<05:52, 14.70s/it]\u001b[A\u001b[A\u001b[A"
          ],
          "name": "stderr"
        },
        {
          "output_type": "stream",
          "text": [
            "\tLoss: 1.210480696093427 , Accuracy : 0.6483779888953606\n"
          ],
          "name": "stdout"
        },
        {
          "output_type": "stream",
          "text": [
            "\n",
            "\n",
            "\n",
            " 85%|████████▍ | 127/150 [31:13<05:38, 14.72s/it]\u001b[A\u001b[A\u001b[A"
          ],
          "name": "stderr"
        },
        {
          "output_type": "stream",
          "text": [
            "\tLoss: 1.2089316227140219 , Accuracy : 0.6487658293577876\n"
          ],
          "name": "stdout"
        },
        {
          "output_type": "stream",
          "text": [
            "\n",
            "\n",
            "\n",
            " 85%|████████▌ | 128/150 [31:28<05:23, 14.72s/it]\u001b[A\u001b[A\u001b[A"
          ],
          "name": "stderr"
        },
        {
          "output_type": "stream",
          "text": [
            "\tLoss: 1.2073969693079483 , Accuracy : 0.6491499908649139\n"
          ],
          "name": "stdout"
        },
        {
          "output_type": "stream",
          "text": [
            "\n",
            "\n",
            "\n",
            " 86%|████████▌ | 129/150 [31:43<05:08, 14.71s/it]\u001b[A\u001b[A\u001b[A"
          ],
          "name": "stderr"
        },
        {
          "output_type": "stream",
          "text": [
            "\tLoss: 1.2058773293112317 , Accuracy : 0.6495303446359008\n"
          ],
          "name": "stdout"
        },
        {
          "output_type": "stream",
          "text": [
            "\n",
            "\n",
            "\n",
            " 87%|████████▋ | 130/150 [31:57<04:54, 14.71s/it]\u001b[A\u001b[A\u001b[A"
          ],
          "name": "stderr"
        },
        {
          "output_type": "stream",
          "text": [
            "\tLoss: 1.2043790164655142 , Accuracy : 0.6499054014247699\n"
          ],
          "name": "stdout"
        },
        {
          "output_type": "stream",
          "text": [
            "\n",
            "\n",
            "\n",
            " 87%|████████▋ | 131/150 [32:12<04:41, 14.79s/it]\u001b[A\u001b[A\u001b[A"
          ],
          "name": "stderr"
        },
        {
          "output_type": "stream",
          "text": [
            "\tLoss: 1.2028953550505812 , Accuracy : 0.650275970462465\n"
          ],
          "name": "stdout"
        },
        {
          "output_type": "stream",
          "text": [
            "\n",
            "\n",
            "\n",
            " 88%|████████▊ | 132/150 [32:27<04:25, 14.76s/it]\u001b[A\u001b[A\u001b[A"
          ],
          "name": "stderr"
        },
        {
          "output_type": "stream",
          "text": [
            "\tLoss: 1.2014208048799613 , Accuracy : 0.6506455919168291\n"
          ],
          "name": "stdout"
        },
        {
          "output_type": "stream",
          "text": [
            "\n",
            "\n",
            "\n",
            " 89%|████████▊ | 133/150 [32:42<04:10, 14.74s/it]\u001b[A\u001b[A\u001b[A"
          ],
          "name": "stderr"
        },
        {
          "output_type": "stream",
          "text": [
            "\tLoss: 1.1999631467526846 , Accuracy : 0.6510123519131737\n"
          ],
          "name": "stdout"
        },
        {
          "output_type": "stream",
          "text": [
            "\n",
            "\n",
            "\n",
            " 89%|████████▉ | 134/150 [32:57<03:55, 14.73s/it]\u001b[A\u001b[A\u001b[A"
          ],
          "name": "stderr"
        },
        {
          "output_type": "stream",
          "text": [
            "\tLoss: 1.1985234370196822 , Accuracy : 0.6513732671737671\n"
          ],
          "name": "stdout"
        },
        {
          "output_type": "stream",
          "text": [
            "\n",
            "\n",
            "\n",
            " 90%|█████████ | 135/150 [33:11<03:40, 14.72s/it]\u001b[A\u001b[A\u001b[A"
          ],
          "name": "stderr"
        },
        {
          "output_type": "stream",
          "text": [
            "\tLoss: 1.1971005062117195 , Accuracy : 0.6517301575980917\n"
          ],
          "name": "stdout"
        },
        {
          "output_type": "stream",
          "text": [
            "\n",
            "\n",
            "\n",
            " 91%|█████████ | 136/150 [33:26<03:25, 14.71s/it]\u001b[A\u001b[A\u001b[A"
          ],
          "name": "stderr"
        },
        {
          "output_type": "stream",
          "text": [
            "\tLoss: 1.1956910460534758 , Accuracy : 0.6520838546056817\n"
          ],
          "name": "stdout"
        },
        {
          "output_type": "stream",
          "text": [
            "\n",
            "\n",
            "\n",
            " 91%|█████████▏| 137/150 [33:41<03:10, 14.69s/it]\u001b[A\u001b[A\u001b[A"
          ],
          "name": "stderr"
        },
        {
          "output_type": "stream",
          "text": [
            "\tLoss: 1.194290940778969 , Accuracy : 0.6524339918672604\n"
          ],
          "name": "stdout"
        },
        {
          "output_type": "stream",
          "text": [
            "\n",
            "\n",
            "\n",
            " 92%|█████████▏| 138/150 [33:55<02:56, 14.69s/it]\u001b[A\u001b[A\u001b[A"
          ],
          "name": "stderr"
        },
        {
          "output_type": "stream",
          "text": [
            "\tLoss: 1.192905016189074 , Accuracy : 0.6527828217422875\n"
          ],
          "name": "stdout"
        },
        {
          "output_type": "stream",
          "text": [
            "\n",
            "\n",
            "\n",
            " 93%|█████████▎| 139/150 [34:10<02:41, 14.69s/it]\u001b[A\u001b[A\u001b[A"
          ],
          "name": "stderr"
        },
        {
          "output_type": "stream",
          "text": [
            "\tLoss: 1.1915304451963327 , Accuracy : 0.6531292039112453\n"
          ],
          "name": "stdout"
        },
        {
          "output_type": "stream",
          "text": [
            "\n",
            "\n",
            "\n",
            " 93%|█████████▎| 140/150 [34:25<02:27, 14.70s/it]\u001b[A\u001b[A\u001b[A"
          ],
          "name": "stderr"
        },
        {
          "output_type": "stream",
          "text": [
            "\tLoss: 1.1901691368896596 , Accuracy : 0.6534720694061613\n"
          ],
          "name": "stdout"
        },
        {
          "output_type": "stream",
          "text": [
            "\n",
            "\n",
            "\n",
            " 94%|█████████▍| 141/150 [34:40<02:13, 14.81s/it]\u001b[A\u001b[A\u001b[A"
          ],
          "name": "stderr"
        },
        {
          "output_type": "stream",
          "text": [
            "\tLoss: 1.18881942146886 , Accuracy : 0.6538123175175521\n"
          ],
          "name": "stdout"
        },
        {
          "output_type": "stream",
          "text": [
            "\n",
            "\n",
            "\n",
            " 95%|█████████▍| 142/150 [34:54<01:58, 14.77s/it]\u001b[A\u001b[A\u001b[A"
          ],
          "name": "stderr"
        },
        {
          "output_type": "stream",
          "text": [
            "\tLoss: 1.1874760650370242 , Accuracy : 0.6541500048045694\n"
          ],
          "name": "stdout"
        },
        {
          "output_type": "stream",
          "text": [
            "\n",
            "\n",
            "\n",
            " 95%|█████████▌| 143/150 [35:09<01:43, 14.76s/it]\u001b[A\u001b[A\u001b[A"
          ],
          "name": "stderr"
        },
        {
          "output_type": "stream",
          "text": [
            "\tLoss: 1.186149092486305 , Accuracy : 0.6544840731760011\n"
          ],
          "name": "stdout"
        },
        {
          "output_type": "stream",
          "text": [
            "\n",
            "\n",
            "\n",
            " 96%|█████████▌| 144/150 [35:24<01:28, 14.74s/it]\u001b[A\u001b[A\u001b[A"
          ],
          "name": "stderr"
        },
        {
          "output_type": "stream",
          "text": [
            "\tLoss: 1.1848327513158756 , Accuracy : 0.6548174915522554\n"
          ],
          "name": "stdout"
        },
        {
          "output_type": "stream",
          "text": [
            "\n",
            "\n",
            "\n",
            " 97%|█████████▋| 145/150 [35:39<01:13, 14.73s/it]\u001b[A\u001b[A\u001b[A"
          ],
          "name": "stderr"
        },
        {
          "output_type": "stream",
          "text": [
            "\tLoss: 1.1835277715738672 , Accuracy : 0.6551469542684346\n"
          ],
          "name": "stdout"
        },
        {
          "output_type": "stream",
          "text": [
            "\n",
            "\n",
            "\n",
            " 97%|█████████▋| 146/150 [35:53<00:58, 14.72s/it]\u001b[A\u001b[A\u001b[A"
          ],
          "name": "stderr"
        },
        {
          "output_type": "stream",
          "text": [
            "\tLoss: 1.18224041044277 , Accuracy : 0.6554722946925755\n"
          ],
          "name": "stdout"
        },
        {
          "output_type": "stream",
          "text": [
            "\n",
            "\n",
            "\n",
            " 98%|█████████▊| 147/150 [36:08<00:44, 14.72s/it]\u001b[A\u001b[A\u001b[A"
          ],
          "name": "stderr"
        },
        {
          "output_type": "stream",
          "text": [
            "\tLoss: 1.1809610189312565 , Accuracy : 0.6557948893874231\n"
          ],
          "name": "stdout"
        },
        {
          "output_type": "stream",
          "text": [
            "\n",
            "\n",
            "\n",
            " 99%|█████████▊| 148/150 [36:23<00:29, 14.73s/it]\u001b[A\u001b[A\u001b[A"
          ],
          "name": "stderr"
        },
        {
          "output_type": "stream",
          "text": [
            "\tLoss: 1.1796910188493936 , Accuracy : 0.6561161009934697\n"
          ],
          "name": "stdout"
        }
      ]
    },
    {
      "cell_type": "code",
      "metadata": {
        "id": "wHbH-DEHUEjE",
        "colab": {
          "base_uri": "https://localhost:8080/",
          "height": 34
        },
        "outputId": "617ce365-6ce5-4fa3-8f32-f20123c80370"
      },
      "source": [
        "predict_model=create_model(1,1)\n",
        "predict_model.load_weights('/content/drive/My Drive/new_model_weights')\n"
      ],
      "execution_count": null,
      "outputs": [
        {
          "output_type": "execute_result",
          "data": {
            "text/plain": [
              "<tensorflow.python.training.tracking.util.CheckpointLoadStatus at 0x7f6bd94dbb38>"
            ]
          },
          "metadata": {
            "tags": []
          },
          "execution_count": 11
        }
      ]
    },
    {
      "cell_type": "code",
      "metadata": {
        "id": "9_AuOgsmUJNT"
      },
      "source": [
        "def Generating_message(char,sequence_length):\n",
        "    prediction=[]\n",
        "    index=char_to_index[char]\n",
        "    prediction.append(index)\n",
        "    \n",
        "    input_char_index=np.array([[index]])\n",
        "\n",
        "    for i in range(sequence_length):\n",
        "      prediction_index=(predict_model.predict_on_batch(input_char_index)).argmax()\n",
        "      input_char_index=np.array([[prediction_index]])\n",
        "      prediction.append(prediction_index)\n",
        "\n",
        "    message=''.join(index_to_char[index] for index in prediction)\n",
        "\n",
        "    print(message)  "
      ],
      "execution_count": null,
      "outputs": []
    },
    {
      "cell_type": "code",
      "metadata": {
        "id": "1dFSlkouVfqY",
        "colab": {
          "base_uri": "https://localhost:8080/",
          "height": 34
        },
        "outputId": "d6276e77-5a0d-4aba-bbfc-00983beb2c8e"
      },
      "source": [
        "Generating_message('v',100)"
      ],
      "execution_count": null,
      "outputs": [
        {
          "output_type": "stream",
          "text": [
            "voli class xa ki nai aaja??  Aaja hamro class ko ko ho  Aaja bida ho ki haina?  Aaja bida ho ki nai  \n"
          ],
          "name": "stdout"
        }
      ]
    },
    {
      "cell_type": "markdown",
      "metadata": {
        "id": "dbsNe2mKRAV6"
      },
      "source": [
        "As you can see, even thought most of my messages are in nepali just by giving a single word 'v' it can generate a whole sequence of message which are likely going to occur after that word."
      ]
    },
    {
      "cell_type": "code",
      "metadata": {
        "id": "s0phlPn4RdyS"
      },
      "source": [
        ""
      ],
      "execution_count": null,
      "outputs": []
    }
  ]
}
